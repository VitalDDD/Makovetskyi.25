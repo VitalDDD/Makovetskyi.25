{
 "cells": [
  {
   "cell_type": "code",
   "execution_count": 1,
   "id": "fc19dd4f",
   "metadata": {
    "scrolled": true
   },
   "outputs": [
    {
     "name": "stdout",
     "output_type": "stream",
     "text": [
      "0.25000000000000006\n"
     ]
    }
   ],
   "source": [
    "# Дані завдання про двох економістів - похибки та кількість заповнених документів\n",
    "p1=0.1\n",
    "p2=0.2\n",
    "n1=40\n",
    "n2=60\n",
    "\n",
    "# Ймовірність дістати з загалу документ від першого чи другого економіста  \n",
    "m=n1+n2\n",
    "pn1=n1/m\n",
    "pn2=n2/m\n",
    "\n",
    "# Ймовірність що документ з суттєвою похибкою який дістали був складений першим економістом \n",
    "p1neg=(p1*pn1)/(p1*pn1+p2*pn2)\n",
    "print(p1neg)"
   ]
  },
  {
   "cell_type": "code",
   "execution_count": 8,
   "id": "350ae82d",
   "metadata": {},
   "outputs": [
    {
     "name": "stdout",
     "output_type": "stream",
     "text": [
      "Менший коефіцієнт вариації у товарів Y - Vy=0.2222222222222222, тому ризик менше та слід випускати і реалізовувати товари Y.\n"
     ]
    }
   ],
   "source": [
    "import math\n",
    "\n",
    "# Оцінити ступень ризику\n",
    "\n",
    "# Мат очикування та мат очикування квадрату \n",
    "Mx=1000*0.5+1500*0.3+2000*0.2\n",
    "My=1000*0.4+1500*0.4+1750*0.2\n",
    "Mx2=(1000**2)*0.5+(1500**2)*0.3+(2000**2)*0.2\n",
    "My2=(1000**2)*0.4+(1500**2)*0.4+(1750**2)*0.2\n",
    "\n",
    "# Середньоквадратичне відхилення\n",
    "skvx=math.sqrt(abs(Mx2-Mx**2))\n",
    "skvy=math.sqrt(abs(My2-My**2))\n",
    "\n",
    "# Розрахуємо ступінь ризику через коефіцієнт вариації\n",
    "Vx=skvx/Mx\n",
    "Vy=skvy/My\n",
    "\n",
    "if Vx < Vy:\n",
    "    print(f'Менший коефіцієнт вариації у товарів X - Vx={Vx}, тому ризик менше та слід випускати і реалізовувати товари X.')\n",
    "elif Vy < Vx:\n",
    "    print(f'Менший коефіцієнт вариації у товарів Y - Vy={Vy}, тому ризик менше та слід випускати і реалізовувати товари Y.')\n",
    "else:\n",
    "    print(f'Коефіцієнти вариації у товарів однакові, тому ризик однаковий та можно випускати і реалізовувати товари хоч X чи Y.')"
   ]
  },
  {
   "cell_type": "code",
   "execution_count": null,
   "id": "537af4c4",
   "metadata": {},
   "outputs": [],
   "source": []
  }
 ],
 "metadata": {
  "kernelspec": {
   "display_name": "Python 3 (ipykernel)",
   "language": "python",
   "name": "python3"
  },
  "language_info": {
   "codemirror_mode": {
    "name": "ipython",
    "version": 3
   },
   "file_extension": ".py",
   "mimetype": "text/x-python",
   "name": "python",
   "nbconvert_exporter": "python",
   "pygments_lexer": "ipython3",
   "version": "3.9.13"
  }
 },
 "nbformat": 4,
 "nbformat_minor": 5
}
