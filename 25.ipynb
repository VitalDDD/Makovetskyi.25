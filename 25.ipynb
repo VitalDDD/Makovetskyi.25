{
 "cells": [
  {
   "cell_type": "code",
   "execution_count": 6,
   "id": "5a48b9e3",
   "metadata": {},
   "outputs": [
    {
     "name": "stdout",
     "output_type": "stream",
     "text": [
      "P(X=0, Y=0) = 0.014\n",
      "P(X=0, Y=1) = 0.062\n",
      "P(X=0, Y=2) = 0.093\n",
      "P(X=0, Y=3) = 0.047\n",
      "P(X=1, Y=0) = 0.124\n",
      "P(X=1, Y=1) = 0.187\n",
      "P(X=1, Y=2) = 0.093\n",
      "P(X=1, Y=3) = 0.000\n",
      "P(X=2, Y=0) = 0.124\n",
      "P(X=2, Y=1) = 0.062\n",
      "P(X=2, Y=2) = 0.000\n",
      "P(X=2, Y=3) = 0.000\n",
      "P(X=3, Y=0) = 0.014\n",
      "P(X=3, Y=1) = 0.000\n",
      "P(X=3, Y=2) = 0.000\n",
      "P(X=3, Y=3) = 0.000\n",
      "\n",
      "Коефіцієнт кореляції між X та Y: -0.615\n"
     ]
    }
   ],
   "source": [
    "# Перше завдання\n",
    "\n",
    "import math\n",
    "\n",
    "# Ймовірність стандартних деталей\n",
    "p = 0.6\n",
    "\n",
    "# Лист для зберігання значеннь ймовірностей\n",
    "probabilities = []\n",
    "\n",
    "# Функція для розрахування ймовірності біноміального разподілу\n",
    "def binomial_probability(n, k, p):\n",
    "    return (math.factorial(n) / (math.factorial(k) * math.factorial(n - k))) * (p ** k) * ((1 - p) ** (n - k))\n",
    "\n",
    "# Закон розподілу для системи величин X та Y\n",
    "xy_probs = [[0 for j in range(4)] for i in range(4)]\n",
    "for i in range(4):\n",
    "    for j in range(4):\n",
    "        for k in range(4):\n",
    "            if i + j == k:\n",
    "                xy_probs[i][j] += binomial_probability(3, k, p) * binomial_probability(3, i, 1 - p)\n",
    "        print(f\"P(X={i}, Y={j}) = {xy_probs[i][j]:.3f}\")\n",
    "\n",
    "# Коваріація та коефіцієнт кореляції між X та Y\n",
    "xy_cov = 0\n",
    "x_mean = sum([i * sum(xy_probs[i]) for i in range(4)])\n",
    "y_mean = sum([j * sum(xy_probs[j]) for j in range(4)])\n",
    "for i in range(4):\n",
    "    for j in range(4):\n",
    "        xy_cov += (i - x_mean) * (j - y_mean) * xy_probs[i][j]\n",
    "\n",
    "x_stddev = math.sqrt(sum([(i - x_mean) ** 2 * sum(xy_probs[i]) for i in range(4)]))\n",
    "y_stddev = math.sqrt(sum([(j - y_mean) ** 2 * sum(xy_probs[j]) for j in range(4)]))\n",
    "\n",
    "xy_corr = xy_cov / (x_stddev * y_stddev)\n",
    "\n",
    "print(f\"\\nКоефіцієнт кореляції між X та Y: {xy_corr:.3f}\")\n"
   ]
  },
  {
   "cell_type": "code",
   "execution_count": 7,
   "id": "a4cd45e0",
   "metadata": {},
   "outputs": [
    {
     "name": "stdout",
     "output_type": "stream",
     "text": [
      "Очікувана норма прибутку для акцій X: 2.700\n",
      "Очікувана норма прибутку для акцій Y: 4.000\n",
      "Середньоквадратичне відхилення для акцій X: 3.716\n",
      "Середньоквадратичне відхилення для акцій Y: 7.899\n",
      "Коваріація між X та Y: 4.308\n",
      "Коефіцієнт кореляції між between X та Y: 0.147\n"
     ]
    }
   ],
   "source": [
    "# Друге завдання\n",
    "\n",
    "import numpy as np\n",
    "\n",
    "# Задані відносні частоти очікуваних прибутків для акції X та Y\n",
    "X = [(10, 0.1), (5, 0.3), (2, 0.2), (1, 0.3), (-5, 0.1)]\n",
    "Y = [(20, 0.1), (10, 0.3), (2, 0.2), (-2, 0.3), (-8, 0.1)]\n",
    "\n",
    "# Обчислюємо очікувану норму прибутку для кожної акції\n",
    "expected_return_X = sum([x[0]*x[1] for x in X])\n",
    "expected_return_Y = sum([y[0]*y[1] for y in Y])\n",
    "\n",
    "print(f\"Очікувана норма прибутку для акцій X: {expected_return_X:.3f}\")\n",
    "print(f\"Очікувана норма прибутку для акцій Y: {expected_return_Y:.3f}\")\n",
    "\n",
    "# Обчислюємо середньоквадратичне відхилення для кожної акції\n",
    "deviation_X = np.sqrt(sum([(x[0]-expected_return_X)**2 * x[1] for x in X]))\n",
    "deviation_Y = np.sqrt(sum([(y[0]-expected_return_Y)**2 * y[1] for y in Y]))\n",
    "\n",
    "print(f\"Середньоквадратичне відхилення для акцій X: {deviation_X:.3f}\")\n",
    "print(f\"Середньоквадратичне відхилення для акцій Y: {deviation_Y:.3f}\")\n",
    "\n",
    "# Обчислюємо коваріацію\n",
    "covariance = sum([(x[0]-expected_return_X)*(y[0]-expected_return_Y)*x[1]*y[1] for x,y in zip(X,Y)])\n",
    "\n",
    "# Обчислюємо коефіцієнт кореляції\n",
    "correlation_coefficient = covariance / (deviation_X * deviation_Y)\n",
    "\n",
    "print(f\"Коваріація між X та Y: {covariance:.3f}\")\n",
    "print(f\"Коефіцієнт кореляції між between X та Y: {correlation_coefficient:.3f}\")\n"
   ]
  },
  {
   "cell_type": "code",
   "execution_count": null,
   "id": "cb67f296",
   "metadata": {},
   "outputs": [],
   "source": []
  }
 ],
 "metadata": {
  "kernelspec": {
   "display_name": "Python 3 (ipykernel)",
   "language": "python",
   "name": "python3"
  },
  "language_info": {
   "codemirror_mode": {
    "name": "ipython",
    "version": 3
   },
   "file_extension": ".py",
   "mimetype": "text/x-python",
   "name": "python",
   "nbconvert_exporter": "python",
   "pygments_lexer": "ipython3",
   "version": "3.9.13"
  }
 },
 "nbformat": 4,
 "nbformat_minor": 5
}
